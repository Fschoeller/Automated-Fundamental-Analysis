{
 "cells": [
  {
   "cell_type": "code",
   "execution_count": 2,
   "metadata": {},
   "outputs": [],
   "source": [
    "import requests\n",
    "from requests.exceptions import RequestException\n",
    "from contextlib import closing\n",
    "from bs4 import BeautifulSoup\n",
    "import pandas as pd\n",
    "from itertools import cycle\n",
    "from csv import reader\n",
    "import seaborn as sns\n",
    "import numpy as np\n",
    "import statistics\n",
    "import ast\n",
    "import sys\n",
    "import time\n",
    "import os\n",
    "import csv"
   ]
  },
  {
   "cell_type": "code",
   "execution_count": null,
   "metadata": {
    "scrolled": true
   },
   "outputs": [],
   "source": [
    "sectors = ['basicmaterials', 'communicationservices', \n",
    "           'consumercyclical', 'consumerdefensive', 'energy',\n",
    "          'financial', 'healthcare', 'industrials', 'realestate',\n",
    "          'technology', 'utilities']\n",
    "\n",
    "\n",
    "rawURL = 'https://finviz.com/screener.ashx?v=152&c=0,1,2,3,4,5,6,8,9,10,11,13,17,18,20,22,23,32,33,34,35,36,37,38,39,40,41,43,44,45,46,47,51&f=sec_'\n",
    "path = 'C:\\\\Users\\\\faiza\\\\OneDrive\\\\Desktop\\\\StockData\\\\Sector Data\\\\'\n",
    "\n",
    "\n",
    "for i in range(len(sectors)):\n",
    "    URL = rawURL + sectors[i]\n",
    "    print(URL)"
   ]
  },
  {
   "cell_type": "code",
   "execution_count": 4,
   "metadata": {},
   "outputs": [],
   "source": [
    "def getProxies(inURL):\n",
    "    page = requests.get(inURL)\n",
    "    soup = BeautifulSoup(page.text, 'html.parser')\n",
    "    terms = soup.find_all('tr')\n",
    "    IPs = []\n",
    "\n",
    "    for x in range(len(terms)):  \n",
    "        \n",
    "        term = str(terms[x])        \n",
    "        \n",
    "        if '<tr><td>' in str(terms[x]):\n",
    "            pos1 = term.find('d>') + 2\n",
    "            pos2 = term.find('</td>')\n",
    "\n",
    "            pos3 = term.find('</td><td>') + 9\n",
    "            pos4 = term.find('</td><td>US<')\n",
    "            \n",
    "            IP = term[pos1:pos2]\n",
    "            port = term[pos3:pos4]\n",
    "            \n",
    "            if '.' in IP and len(port) < 6:\n",
    "                IPs.append(IP + \":\" + port)\n",
    "                #print(IP + \":\" + port)\n",
    "\n",
    "    return IPs \n",
    "\n",
    "\n",
    "def clean(stng):\n",
    "    \n",
    "    output = ''\n",
    "\n",
    "    for letter in stng:\n",
    "        if letter not in \"[]()'\": #and letter != ' ':\n",
    "            output += letter\n",
    "        \n",
    "    return output\n",
    "\n",
    "\n",
    "agent = {\"User-Agent\":'Mozilla/5.0 (Windows NT 10.0; Win64; x64) AppleWebKit/537.36 (KHTML, like Gecko) Chrome/81.0.4044.138 Safari/537.36'}\n",
    "proxyURL = \"https://www.us-proxy.org/\"\n",
    "pxs = getProxies(proxyURL)\n",
    "proxyPool = cycle(pxs)"
   ]
  },
  {
   "cell_type": "code",
   "execution_count": null,
   "metadata": {
    "scrolled": true
   },
   "outputs": [],
   "source": [
    "header = 'Index, Symbol, Company Name, Sector, Industry, Country, Market Cap, Forward PE, PEG, Price/Sales, Price/Book, Price/FCF, EPS This Y, EPS Next Y, EPS Next 5Y, EPS Q/Q, Sales Q/Q, ROA, ROE, ROI, Current Ratio, Quick Ratio, LT Debt/Equity, Debt/Equity, Gross Margin, Operating Margin, Net Margin, Perf Month, Perf Quarter, Perf Half Y, Perf Year, Perf YTD, Volatility (Month)' + '\\n'\n",
    "allData = []\n",
    "\n",
    "for i in range(len(sectors)):\n",
    "    \n",
    "    pageCounter = 1\n",
    "    stocksAdded = 20\n",
    "    stockData = []\n",
    "\n",
    "    while stocksAdded == 20:\n",
    "\n",
    "        stocksAdded = 0\n",
    "\n",
    "        URL = rawURL + sectors[i] + '&r=' + str(pageCounter)\n",
    "\n",
    "        print(URL, pageCounter)\n",
    "\n",
    "        page = requests.get(URL, headers=agent, proxies = {\"http\": next(proxyPool)})\n",
    "        soup = BeautifulSoup(page.content, 'html.parser')\n",
    "\n",
    "        tableLightStocks = soup.find_all('tr', {'class': 'table-light-row-cp'})\n",
    "        tableDarkStocks = soup.find_all('tr', {'class': 'table-dark-row-cp'})\n",
    "\n",
    "        tableStocks = list(tableLightStocks) + list(tableDarkStocks)\n",
    "\n",
    "        for result in tableStocks:\n",
    "\n",
    "            result = str(result)\n",
    "            rawString = result\n",
    "            data = ''\n",
    "\n",
    "            while '<' in rawString:\n",
    "\n",
    "                rawString = rawString[rawString.find('<') + 3 : ]\n",
    "                stng = rawString[rawString.find('>') + 1 : rawString.find('<')]\n",
    "\n",
    "                if len(stng) > 0:\n",
    "                    data += stng.replace('&amp;', '&').replace(',', '') + ', '\n",
    "\n",
    "            data = '[' + data[3 : -2] + ']'\n",
    "\n",
    "            stockData.append([tuple(map(str, data.split(', '))) ])\n",
    "            allData.append([tuple(map(str, data.split(', '))) ])\n",
    "            stocksAdded += 1\n",
    "\n",
    "        pageCounter += 20\n",
    "        print(stocksAdded)\n",
    "\n",
    "\n",
    "    MyFile = open(path + 'SectorData - ' + sectors[i] + '.csv', 'w')\n",
    "    MyFile.write(header)\n",
    "\n",
    "    for row in stockData:\n",
    "        MyFile.write(clean(str(row)))\n",
    "        MyFile.write('\\n')\n",
    "\n",
    "    MyFile.close()\n",
    "    print('Saved:', sectors[i])\n",
    "\n",
    "                      \n",
    "print(stockData)\n",
    "        "
   ]
  },
  {
   "cell_type": "code",
   "execution_count": 5,
   "metadata": {},
   "outputs": [],
   "source": [
    "MyFile = open(path + 'SectorData.csv', 'w')\n",
    "MyFile.write(header)\n",
    "\n",
    "for row in allData:\n",
    "    MyFile.write(clean(str(row)))\n",
    "    MyFile.write('\\n')\n",
    "\n",
    "MyFile.close()"
   ]
  },
  {
   "cell_type": "code",
   "execution_count": 8,
   "metadata": {},
   "outputs": [
    {
     "name": "stdout",
     "output_type": "stream",
     "text": [
      "technology raw net margin Avg: -2.1032755298651273 4.277257111170864\n",
      "\n",
      "Metrics Available: ['Forward PE', 'PEG', 'Price/Sales', 'Price/Book', 'Price/FCF', 'EPS This Y', 'EPS Next Y', 'EPS Next 5Y', 'EPS Q/Q', 'Sales Q/Q', 'ROA', 'ROE', 'ROI', 'Current Ratio', 'Quick Ratio', 'LT Debt/Equity', 'Debt/Equity', 'Gross Margin', 'Operating Margin', 'Net Margin', 'Perf Month', 'Perf Quarter', 'Perf Half Y', 'Perf Year', 'Perf YTD', 'Volatility (Month)']\n",
      "\n",
      "Avg 2.0 Start 16.030 Change 4.2772\n"
     ]
    },
    {
     "data": {
      "image/png": "[encoded data removed]",
      "text/plain": [
       "<Figure size 432x288 with 1 Axes>"
      ]
     },
     "metadata": {
      "needs_background": "light"
     },
     "output_type": "display_data"
    }
   ],
   "source": [
    "def getAverage(sector, metric, lessThan):\n",
    "    \n",
    "    with open(path + 'SectorData - ' + sector + '.csv', 'r') as rdr:\n",
    "        \n",
    "        csv = reader(rdr)\n",
    "        sectorData = list(csv)\n",
    "        \n",
    "    avg = 0\n",
    "    columnToSearch = 0 \n",
    "    validCells = 0\n",
    "    metrics = []\n",
    "    \n",
    "    for column in range(len(sectorData[0])):\n",
    "        \n",
    "        if sectorData[0][column][1: ].casefold() == metric.casefold():\n",
    "            columnToSearch = column\n",
    "\n",
    "            \n",
    "    for row in range(1, len(sectorData)):\n",
    "        \n",
    "        cell = sectorData[row][columnToSearch].replace('%', '').replace(' ', '')\n",
    "        \n",
    "        if cell != '-':\n",
    "            \n",
    "            avg += float(cell)\n",
    "            metrics.append(float(cell))\n",
    "            validCells += 1\n",
    "    \n",
    "    elements = np.array(metrics)\n",
    "    mean = np.mean(elements, axis=0)\n",
    "    sd = np.std(elements, axis=0)\n",
    "\n",
    "    for i in range(2):\n",
    "        smoothedList = [x for x in metrics if (x > mean - 2 * sd)]\n",
    "        smoothedList = [x for x in smoothedList if (x < mean + 2 * sd)]\n",
    "\n",
    "        mean = np.mean(smoothedList, axis=0)\n",
    "        sd = np.std(smoothedList, axis=0)\n",
    "\n",
    "    metricAvg = avg / validCells \n",
    "    metricStd = np.std(smoothedList, axis = 0) / 3\n",
    "    \n",
    "    \n",
    "    percentile = np.percentile(smoothedList, 90)\n",
    "    smoothedAvg =  np.percentile(smoothedList, 50)\n",
    "    \n",
    "    if lessThan == True:\n",
    "        percentile = np.percentile(smoothedList, 10)\n",
    "    \n",
    "    sns.distplot(smoothedList);\n",
    "    \n",
    "    print(sector + ' raw ' + metric + ' Avg:', metricAvg, metricStd)\n",
    "    print('\\nMetrics Available:', [metric[1 : ] for metric in sectorData[0][7 : ]])\n",
    "    \n",
    "    return smoothedAvg, percentile, metricStd\n",
    "    \n",
    "\n",
    "sectorData = []\n",
    "\n",
    "smoothAvg, start, change = getAverage('technology', 'net margin', False)\n",
    "print('\\nAvg', smoothAvg, 'Start', str(start)[0:6], 'Change', str(change)[0:6])"
   ]
  },
  {
   "cell_type": "code",
   "execution_count": 67,
   "metadata": {},
   "outputs": [
    {
     "data": {
      "text/plain": [
       "' ,basicmaterials, communicationservices, consumercyclical, consumerdefensive, energy, financial, healthcare, industrials, realestate, technology, utilities\\n'"
      ]
     },
     "execution_count": 67,
     "metadata": {},
     "output_type": "execute_result"
    }
   ],
   "source": [
    "header = [sector for sector in sectors]\n",
    "header = ' ,' + (\" \".join(header)).replace(' ', ', ') + '\\n'\n",
    "header"
   ]
  },
  {
   "cell_type": "code",
   "execution_count": 68,
   "metadata": {
    "scrolled": true
   },
   "outputs": [
    {
     "name": "stdout",
     "output_type": "stream",
     "text": [
      "['Forward PE, 11.879999999999999, 12.68, 12.41, 15.47, 9.3, 8.69, 18.39, 12.91, 20.54, 17.31, 16.125']\n",
      "['PEG, 1.95, 2.315, 1.52, 2.7350000000000003, 0.83, 1.06, 3.255, 1.66, 2.55, 2.7, 3.9']\n",
      "['Price/Sales, 0.76, 1.07, 0.51, 0.88, 0.43, 2.3049999999999997, 5.76, 0.7, 2.75, 2.23, 2.3']\n",
      "['Price/Book, 1.22, 1.33, 1.15, 1.62, 0.6, 0.78, 3.22, 1.25, 0.99, 2.52, 1.6549999999999998']\n",
      "['Price/FCF, 11.94, 14.63, 10.629999999999999, 16.71, 3.48, 8.969999999999999, 26.175, 12.03, 24.475, 22.66, 11.535']\n",
      "['EPS This Y, -4.4, -0.9, 6.3, 4.5, -11.8, 7.9, 9.75, 6.9, -0.7, 3.3, 6.2']\n",
      "['EPS Next Y, 32.8, 31.58, 50.0, 12.605, 11.155000000000001, 8.46, 16.9, 25.215000000000003, 9.58, 28.424999999999997, 7.925000000000001']\n",
      "['EPS Next 5Y, 8.0, 7.85, 9.3, 7.45, 5.05, 8.0, 12.17, 10.0, 6.0, 14.3, 5.25']\n",
      "['EPS Q/Q, -3.8000000000000003, -2.4000000000000004, -1.2, -1.5, -46.0, 6.1, 12.4, 3.9, -2.3, 6.5, -2.8']\n",
      "['Sales Q/Q, -3.0, 1.0, 1.0, 3.6, -8.2, 0.9, 5.4, 0.5, 4.3, 5.75, -1.9']\n",
      "['ROA, 2.6500000000000004, 1.1, 3.7, 3.7, -0.1, 1.1, -30.0, 3.6, 1.8, 1.2, 2.5']\n",
      "['ROE, 5.1, 2.8, 8.8, 8.0, 1.1, 9.1, -39.9, 9.850000000000001, 4.55, 2.8, 9.2']\n",
      "['ROI, 6.8, 4.0, 7.9, 7.2, 3.55, 16.45, -10.1, 7.5, 2.8499999999999996, 3.05, 5.8']\n",
      "['Current Ratio, 2.0, 1.4, 1.4, 1.5, 1.1, 1.5, 3.4, 1.8, 1.3, 1.8, 0.8']\n",
      "['Quick Ratio, 1.2, 1.3, 0.8, 0.9, 1.0, 1.45, 3.2, 1.3, 1.2, 1.5, 0.6']\n",
      "['LT Debt/Equity, 0.425, 0.33, 0.49, 0.37, 0.64, 0.15, 0.0, 0.49, 1.01, 0.14, 1.06']\n",
      "['Debt/Equity, 0.52, 0.355, 0.59, 0.45, 0.64, 0.15, 0.0, 0.545, 1.07, 0.17, 1.22']\n",
      "['Gross Margin, 23.0, 55.1, 32.8, 34.0, 43.4, 73.05000000000001, 62.0, 28.9, 63.9, 47.1, 68.9']\n",
      "['Operating Margin, 7.75, 6.199999999999999, 5.75, 5.4, 5.449999999999999, 62.5, 5.0, 6.8, 20.65, 3.7, 18.6']\n",
      "['Net Margin, 4.2, 2.05, 3.7, 3.4, 0.65, 21.1, 2.5, 4.8, 12.05, 2.0, 11.3']\n",
      "['Perf Month, 5.26, 1.17, 3.8200000000000003, 0.7, 8.805, 0.69, 5.38, -0.505, -6.96, 5.5649999999999995, -5.82']\n",
      "['Perf Quarter, -28.3, -27.905, -39.71, -15.76, -46.12, -19.85, -15.85, -31.6, -42.085, -18.085, -22.555']\n",
      "['Perf Half Y, -29.435000000000002, -26.11, -39.17, -13.27, -52.31, -16.955, -5.98, -31.9, -39.879999999999995, -12.93, -14.795']\n",
      "['Perf Year, -30.835, -31.98, -39.375, -20.45, -64.14, -13.985, -21.23, -32.82, -41.09, -13.3, -11.615']\n",
      "['Perf YTD, -32.1, -27.91, -39.78, -18.8, -54.55, -18.4, -14.06, -32.2, -41.63, -15.105, -18.515']\n",
      "['Volatility (Month), 5.99, 5.62, 6.93, 4.8100000000000005, 9.91, 1.73, 8.2, 5.77, 5.925, 5.23, 3.68']\n"
     ]
    }
   ],
   "source": [
    "avgData = []\n",
    "metrics = ['Forward PE', 'PEG', 'Price/Sales', 'Price/Book', 'Price/FCF', 'EPS This Y', 'EPS Next Y', 'EPS Next 5Y', 'EPS Q/Q', 'Sales Q/Q', 'ROA', 'ROE', 'ROI', 'Current Ratio', 'Quick Ratio', 'LT Debt/Equity', 'Debt/Equity', 'Gross Margin', 'Operating Margin', 'Net Margin', 'Perf Month', 'Perf Quarter', 'Perf Half Y', 'Perf Year', 'Perf YTD', 'Volatility (Month)']\n",
    "lessThanMetrics = ['Forward PE', 'PEG', 'Price/Sales', 'Price/Book', 'Price/FCF', 'LT Debt/Equity', 'Debt/Equity', 'Volatility (Month)']\n",
    "\n",
    "\n",
    "for metric in metrics:\n",
    "    \n",
    "    stng = ''\n",
    "    \n",
    "    for sector in sectors:\n",
    "        \n",
    "        lessThan = False\n",
    "        if metric in lessThanMetrics: lessThan = True\n",
    "        \n",
    "        smoothAvg, start, change = getAverage(sector, metric, lessThan)\n",
    "        \n",
    "        if sector == 'basicmaterials': stng += str(metric) + ', ' + str(smoothAvg) + ', '\n",
    "        else: stng += str(smoothAvg) + ', '\n",
    "    \n",
    "    \n",
    "    stng = stng[:-2]\n",
    "    avgData.append([stng])\n",
    "        \n",
    "\n",
    "for row in avgData:\n",
    "    print(row)"
   ]
  },
  {
   "cell_type": "code",
   "execution_count": 69,
   "metadata": {},
   "outputs": [
    {
     "name": "stdout",
     "output_type": "stream",
     "text": [
      "Saved to: C:\\Users\\faiza\\OneDrive\\Desktop\\StockData\\Sector Data\\AverageSectorMetrics.csv\n"
     ]
    }
   ],
   "source": [
    "MyFile = open(path + 'AverageSectorMetrics.csv', 'w')\n",
    "MyFile.write(header)\n",
    "\n",
    "for row in avgData:\n",
    "    MyFile.write(clean(str(row)))\n",
    "    MyFile.write('\\n')\n",
    "\n",
    "MyFile.close()\n",
    "print('Saved to: ' + path + 'AverageSectorMetrics.csv')"
   ]
  }
 ],
 "metadata": {
  "kernelspec": {
   "display_name": "Python 3",
   "language": "python",
   "name": "python3"
  },
  "language_info": {
   "codemirror_mode": {
    "name": "ipython",
    "version": 3
   },
   "file_extension": ".py",
   "mimetype": "text/x-python",
   "name": "python",
   "nbconvert_exporter": "python",
   "pygments_lexer": "ipython3",
   "version": "3.6.7"
  }
 },
 "nbformat": 4,
 "nbformat_minor": 2
}
